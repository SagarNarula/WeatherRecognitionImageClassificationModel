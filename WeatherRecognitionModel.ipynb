{
  "nbformat": 4,
  "nbformat_minor": 0,
  "metadata": {
    "colab": {
      "name": "WeatherRecognitionModel",
      "provenance": [],
      "collapsed_sections": []
    },
    "kernelspec": {
      "name": "python3",
      "display_name": "Python 3"
    },
    "accelerator": "GPU"
  },
  "cells": [
    {
      "cell_type": "code",
      "metadata": {
        "id": "HPodU15p_Ey7",
        "outputId": "16cab47c-3eec-427a-854e-8befd5a80060",
        "colab": {
          "base_uri": "https://localhost:8080/",
          "height": 34
        }
      },
      "source": [
        "from google.colab import drive\n",
        "drive.mount('/content/gdrive')"
      ],
      "execution_count": 2,
      "outputs": [
        {
          "output_type": "stream",
          "text": [
            "Mounted at /content/gdrive\n"
          ],
          "name": "stdout"
        }
      ]
    },
    {
      "cell_type": "code",
      "metadata": {
        "id": "EiEw9xXt_Iha"
      },
      "source": [
        "import keras\n",
        "from keras.models import Sequential\n",
        "from keras.layers import Conv2D\n",
        "from keras.layers import MaxPooling2D\n",
        "from keras.layers import Flatten\n",
        "from keras.layers import Dense"
      ],
      "execution_count": 3,
      "outputs": []
    },
    {
      "cell_type": "code",
      "metadata": {
        "id": "7dO4DZj5_hhg"
      },
      "source": [
        "\n",
        "classifier = Sequential()"
      ],
      "execution_count": 4,
      "outputs": []
    },
    {
      "cell_type": "code",
      "metadata": {
        "id": "lQVQvoGC_kuU"
      },
      "source": [
        "classifier.add(Conv2D(32, (3,3), input_shape = (64,64,3), activation = 'relu'))   # 64 - 3 + 1 = 62\n",
        "classifier.add(MaxPooling2D(pool_size = (2,2)))  # 62 - 2 + 1 = 61"
      ],
      "execution_count": 5,
      "outputs": []
    },
    {
      "cell_type": "code",
      "metadata": {
        "id": "KBtOAmau_r4V"
      },
      "source": [
        "classifier.add(Conv2D(32, (3,3),activation = 'relu'))  # 61 - 3 + 1 = 59\n",
        "classifier.add(MaxPooling2D(pool_size = (2,2))) # 59 - 2 + 1 = 58"
      ],
      "execution_count": 6,
      "outputs": []
    },
    {
      "cell_type": "code",
      "metadata": {
        "id": "tfv5TJi5_vq3"
      },
      "source": [
        "classifier.add(Conv2D(32, (3,3),activation = 'relu'))  # 61 - 3 + 1 = 59\n",
        "classifier.add(MaxPooling2D(pool_size = (2,2))) # 59 - 2 + 1 = 58"
      ],
      "execution_count": 7,
      "outputs": []
    },
    {
      "cell_type": "code",
      "metadata": {
        "id": "MYvYqJNx_zcM"
      },
      "source": [
        "classifier.add(Flatten())"
      ],
      "execution_count": 8,
      "outputs": []
    },
    {
      "cell_type": "code",
      "metadata": {
        "id": "0UvPINYw_23d"
      },
      "source": [
        "classifier.add(Dense(units = 256, activation = 'relu'))\n",
        "classifier.add(Dense(units = 4, activation = 'softmax'))"
      ],
      "execution_count": 9,
      "outputs": []
    },
    {
      "cell_type": "code",
      "metadata": {
        "id": "GM_kXDhQ_5me"
      },
      "source": [
        "classifier.compile(optimizer = 'adam', loss ='categorical_crossentropy',metrics = ['accuracy'])"
      ],
      "execution_count": 10,
      "outputs": []
    },
    {
      "cell_type": "code",
      "metadata": {
        "id": "QYRpYbq7AJQn"
      },
      "source": [
        "# Use the Image Data Generator to import the images from the dataset\n",
        "from tensorflow.keras.preprocessing.image import ImageDataGenerator\n",
        "\n",
        "train_datagen = ImageDataGenerator(rescale = 1./255,\n",
        "                                   shear_range = 0.2,\n",
        "                                   zoom_range = 0.2,\n",
        "                                   horizontal_flip = True)\n",
        "\n",
        "test_datagen = ImageDataGenerator(rescale = 1./255)"
      ],
      "execution_count": 11,
      "outputs": []
    },
    {
      "cell_type": "code",
      "metadata": {
        "id": "CsNsezPXASWi",
        "outputId": "88b69a52-a083-4ebb-db6e-b55a4d70d395",
        "colab": {
          "base_uri": "https://localhost:8080/",
          "height": 34
        }
      },
      "source": [
        "training_dataset=train_datagen.flow_from_directory('/content/gdrive/My Drive/Weather Recognition/train',target_size=(64,64),batch_size=32,class_mode='categorical')"
      ],
      "execution_count": 12,
      "outputs": [
        {
          "output_type": "stream",
          "text": [
            "Found 822 images belonging to 4 classes.\n"
          ],
          "name": "stdout"
        }
      ]
    },
    {
      "cell_type": "code",
      "metadata": {
        "id": "qxF7_pZbAaA3",
        "outputId": "06de1513-ee9e-4766-82f2-48f16aa75796",
        "colab": {
          "base_uri": "https://localhost:8080/",
          "height": 34
        }
      },
      "source": [
        "test_dataset=test_datagen.flow_from_directory('/content/gdrive/My Drive/Weather Recognition/test',target_size=(64,64),batch_size=32,class_mode='categorical')"
      ],
      "execution_count": 13,
      "outputs": [
        {
          "output_type": "stream",
          "text": [
            "Found 303 images belonging to 4 classes.\n"
          ],
          "name": "stdout"
        }
      ]
    },
    {
      "cell_type": "code",
      "metadata": {
        "id": "XTWFwgkhAfWx",
        "outputId": "29f61d73-2b2e-4730-a881-a1a794ae434d",
        "colab": {
          "base_uri": "https://localhost:8080/",
          "height": 768
        }
      },
      "source": [
        "\n",
        "model = classifier.fit_generator(training_dataset,\n",
        "                                validation_data=test_dataset,\n",
        "                                epochs = 20,\n",
        "                                steps_per_epoch=len(training_dataset),\n",
        "                                validation_steps=len(test_dataset))"
      ],
      "execution_count": 14,
      "outputs": [
        {
          "output_type": "stream",
          "text": [
            "WARNING:tensorflow:From <ipython-input-14-14fdd9d85bbf>:6: Model.fit_generator (from tensorflow.python.keras.engine.training) is deprecated and will be removed in a future version.\n",
            "Instructions for updating:\n",
            "Please use Model.fit, which supports generators.\n",
            "Epoch 1/20\n",
            "26/26 [==============================] - 505s 19s/step - loss: 1.0191 - accuracy: 0.5049 - val_loss: 0.7648 - val_accuracy: 0.7261\n",
            "Epoch 2/20\n",
            "26/26 [==============================] - 8s 302ms/step - loss: 0.7056 - accuracy: 0.6922 - val_loss: 0.6069 - val_accuracy: 0.7261\n",
            "Epoch 3/20\n",
            "26/26 [==============================] - 8s 303ms/step - loss: 0.5942 - accuracy: 0.7421 - val_loss: 0.5070 - val_accuracy: 0.8053\n",
            "Epoch 4/20\n",
            "26/26 [==============================] - 8s 296ms/step - loss: 0.5243 - accuracy: 0.7847 - val_loss: 0.5702 - val_accuracy: 0.7195\n",
            "Epoch 5/20\n",
            "26/26 [==============================] - 8s 301ms/step - loss: 0.4642 - accuracy: 0.8078 - val_loss: 0.5121 - val_accuracy: 0.8416\n",
            "Epoch 6/20\n",
            "26/26 [==============================] - 8s 302ms/step - loss: 0.4182 - accuracy: 0.8333 - val_loss: 0.5752 - val_accuracy: 0.7789\n",
            "Epoch 7/20\n",
            "26/26 [==============================] - 8s 299ms/step - loss: 0.3718 - accuracy: 0.8528 - val_loss: 0.4469 - val_accuracy: 0.8812\n",
            "Epoch 8/20\n",
            "26/26 [==============================] - 8s 311ms/step - loss: 0.3602 - accuracy: 0.8686 - val_loss: 0.5636 - val_accuracy: 0.7855\n",
            "Epoch 9/20\n",
            "26/26 [==============================] - 8s 320ms/step - loss: 0.3130 - accuracy: 0.8650 - val_loss: 0.3302 - val_accuracy: 0.9241\n",
            "Epoch 10/20\n",
            "26/26 [==============================] - 8s 311ms/step - loss: 0.3092 - accuracy: 0.8783 - val_loss: 0.3314 - val_accuracy: 0.9208\n",
            "Epoch 11/20\n",
            "26/26 [==============================] - 8s 300ms/step - loss: 0.3132 - accuracy: 0.8723 - val_loss: 0.4239 - val_accuracy: 0.8845\n",
            "Epoch 12/20\n",
            "26/26 [==============================] - 8s 313ms/step - loss: 0.2285 - accuracy: 0.9221 - val_loss: 0.4194 - val_accuracy: 0.8746\n",
            "Epoch 13/20\n",
            "26/26 [==============================] - 8s 316ms/step - loss: 0.2352 - accuracy: 0.9112 - val_loss: 0.3746 - val_accuracy: 0.8812\n",
            "Epoch 14/20\n",
            "26/26 [==============================] - 8s 307ms/step - loss: 0.2341 - accuracy: 0.9088 - val_loss: 0.4342 - val_accuracy: 0.8713\n",
            "Epoch 15/20\n",
            "26/26 [==============================] - 8s 300ms/step - loss: 0.1764 - accuracy: 0.9343 - val_loss: 0.3356 - val_accuracy: 0.9043\n",
            "Epoch 16/20\n",
            "26/26 [==============================] - 8s 295ms/step - loss: 0.1775 - accuracy: 0.9355 - val_loss: 0.5366 - val_accuracy: 0.8317\n",
            "Epoch 17/20\n",
            "26/26 [==============================] - 8s 302ms/step - loss: 0.2221 - accuracy: 0.9161 - val_loss: 0.4141 - val_accuracy: 0.8845\n",
            "Epoch 18/20\n",
            "26/26 [==============================] - 8s 299ms/step - loss: 0.1684 - accuracy: 0.9355 - val_loss: 0.3366 - val_accuracy: 0.9208\n",
            "Epoch 19/20\n",
            "26/26 [==============================] - 8s 300ms/step - loss: 0.1329 - accuracy: 0.9538 - val_loss: 0.3451 - val_accuracy: 0.9076\n",
            "Epoch 20/20\n",
            "26/26 [==============================] - 8s 300ms/step - loss: 0.1255 - accuracy: 0.9453 - val_loss: 0.3158 - val_accuracy: 0.9307\n"
          ],
          "name": "stdout"
        }
      ]
    },
    {
      "cell_type": "code",
      "metadata": {
        "id": "U41g-8CxApVL",
        "outputId": "4721f236-2a39-4c35-ad6b-570f5924081f",
        "colab": {
          "base_uri": "https://localhost:8080/",
          "height": 34
        }
      },
      "source": [
        "classifier.save(\"model.h5\")\n",
        "print(\"Saved model to disk\")"
      ],
      "execution_count": 15,
      "outputs": [
        {
          "output_type": "stream",
          "text": [
            "Saved model to disk\n"
          ],
          "name": "stdout"
        }
      ]
    },
    {
      "cell_type": "code",
      "metadata": {
        "id": "QSbk_miaGsLs"
      },
      "source": [
        "from keras.models import load_model\n",
        "from keras.preprocessing import image\n",
        "import numpy as np\n",
        "\n",
        "test_image = image.load_img(r'/content/gdrive/My Drive/Weather Recognition/test/rain/rain185.jpg',\n",
        "                           target_size = (64,64))\n",
        "test_image = image.img_to_array(test_image)\n",
        "test_image = np.expand_dims(test_image, axis = 0)\n",
        "\n",
        "model = load_model('model.h5')\n",
        "result = model.predict(test_image)"
      ],
      "execution_count": 24,
      "outputs": []
    },
    {
      "cell_type": "code",
      "metadata": {
        "id": "noqd2SxMG2SA",
        "outputId": "5ae63727-97a3-4f1a-adcf-c0516ab915a9",
        "colab": {
          "base_uri": "https://localhost:8080/",
          "height": 34
        }
      },
      "source": [
        "result"
      ],
      "execution_count": 25,
      "outputs": [
        {
          "output_type": "execute_result",
          "data": {
            "text/plain": [
              "array([[0., 1., 0., 0.]], dtype=float32)"
            ]
          },
          "metadata": {
            "tags": []
          },
          "execution_count": 25
        }
      ]
    },
    {
      "cell_type": "code",
      "metadata": {
        "id": "v4WmXD8BG3f2",
        "outputId": "25e58da7-fe9f-474f-e94d-cc4de011ec5e",
        "colab": {
          "base_uri": "https://localhost:8080/",
          "height": 34
        }
      },
      "source": [
        "result=np.argmax(result,axis=1)\n",
        "result"
      ],
      "execution_count": 26,
      "outputs": [
        {
          "output_type": "execute_result",
          "data": {
            "text/plain": [
              "array([1])"
            ]
          },
          "metadata": {
            "tags": []
          },
          "execution_count": 26
        }
      ]
    },
    {
      "cell_type": "code",
      "metadata": {
        "id": "RYW5GSiMLMnY"
      },
      "source": [
        ""
      ],
      "execution_count": null,
      "outputs": []
    }
  ]
}